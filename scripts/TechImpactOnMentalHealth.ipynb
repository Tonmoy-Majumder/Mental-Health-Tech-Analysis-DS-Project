{
 "cells": [
  {
   "cell_type": "markdown",
   "id": "150856ac5c895200",
   "metadata": {},
   "source": [
    "# **Which technology usage patterns have the strongest impact on mental health?**\n",
    "\n"
   ]
  },
  {
   "cell_type": "markdown",
   "id": "6427edfd4ea3899c",
   "metadata": {},
   "source": [
    "## **1. Data Acquisition** "
   ]
  },
  {
   "cell_type": "code",
   "execution_count": 1,
   "id": "18d510677e23bbc0",
   "metadata": {
    "ExecuteTime": {
     "end_time": "2025-05-03T21:59:50.204999Z",
     "start_time": "2025-05-03T21:59:50.194653Z"
    }
   },
   "outputs": [],
   "source": [
    "import pandas as pd\n",
    "import seaborn as sns\n",
    "import matplotlib.pyplot as plt"
   ]
  },
  {
   "cell_type": "code",
   "execution_count": 5,
   "id": "cf3c48973e809cc2",
   "metadata": {
    "ExecuteTime": {
     "end_time": "2025-05-03T21:59:54.849938Z",
     "start_time": "2025-05-03T21:59:54.796338Z"
    }
   },
   "outputs": [
    {
     "data": {
      "text/html": [
       "<div>\n",
       "<style scoped>\n",
       "    .dataframe tbody tr th:only-of-type {\n",
       "        vertical-align: middle;\n",
       "    }\n",
       "\n",
       "    .dataframe tbody tr th {\n",
       "        vertical-align: top;\n",
       "    }\n",
       "\n",
       "    .dataframe thead th {\n",
       "        text-align: right;\n",
       "    }\n",
       "</style>\n",
       "<table border=\"1\" class=\"dataframe\">\n",
       "  <thead>\n",
       "    <tr style=\"text-align: right;\">\n",
       "      <th></th>\n",
       "      <th>User_ID</th>\n",
       "      <th>Age</th>\n",
       "      <th>Gender</th>\n",
       "      <th>Technology_Usage_Hours</th>\n",
       "      <th>Social_Media_Usage_Hours</th>\n",
       "      <th>Gaming_Hours</th>\n",
       "      <th>Screen_Time_Hours</th>\n",
       "      <th>Mental_Health_Status</th>\n",
       "      <th>Stress_Level</th>\n",
       "      <th>Sleep_Hours</th>\n",
       "      <th>Physical_Activity_Hours</th>\n",
       "      <th>Support_Systems_Access</th>\n",
       "      <th>Work_Environment_Impact</th>\n",
       "      <th>Online_Support_Usage</th>\n",
       "    </tr>\n",
       "  </thead>\n",
       "  <tbody>\n",
       "    <tr>\n",
       "      <th>0</th>\n",
       "      <td>USER-00001</td>\n",
       "      <td>23</td>\n",
       "      <td>Female</td>\n",
       "      <td>6.57</td>\n",
       "      <td>6.00</td>\n",
       "      <td>0.68</td>\n",
       "      <td>12.36</td>\n",
       "      <td>Good</td>\n",
       "      <td>Low</td>\n",
       "      <td>8.01</td>\n",
       "      <td>6.71</td>\n",
       "      <td>No</td>\n",
       "      <td>Negative</td>\n",
       "      <td>Yes</td>\n",
       "    </tr>\n",
       "    <tr>\n",
       "      <th>1</th>\n",
       "      <td>USER-00002</td>\n",
       "      <td>21</td>\n",
       "      <td>Male</td>\n",
       "      <td>3.01</td>\n",
       "      <td>2.57</td>\n",
       "      <td>3.74</td>\n",
       "      <td>7.61</td>\n",
       "      <td>Poor</td>\n",
       "      <td>High</td>\n",
       "      <td>7.28</td>\n",
       "      <td>5.88</td>\n",
       "      <td>Yes</td>\n",
       "      <td>Positive</td>\n",
       "      <td>No</td>\n",
       "    </tr>\n",
       "    <tr>\n",
       "      <th>2</th>\n",
       "      <td>USER-00003</td>\n",
       "      <td>51</td>\n",
       "      <td>Male</td>\n",
       "      <td>3.04</td>\n",
       "      <td>6.14</td>\n",
       "      <td>1.26</td>\n",
       "      <td>3.16</td>\n",
       "      <td>Fair</td>\n",
       "      <td>High</td>\n",
       "      <td>8.04</td>\n",
       "      <td>9.81</td>\n",
       "      <td>No</td>\n",
       "      <td>Negative</td>\n",
       "      <td>No</td>\n",
       "    </tr>\n",
       "    <tr>\n",
       "      <th>3</th>\n",
       "      <td>USER-00004</td>\n",
       "      <td>25</td>\n",
       "      <td>Female</td>\n",
       "      <td>3.84</td>\n",
       "      <td>4.48</td>\n",
       "      <td>2.59</td>\n",
       "      <td>13.08</td>\n",
       "      <td>Excellent</td>\n",
       "      <td>Medium</td>\n",
       "      <td>5.62</td>\n",
       "      <td>5.28</td>\n",
       "      <td>Yes</td>\n",
       "      <td>Negative</td>\n",
       "      <td>Yes</td>\n",
       "    </tr>\n",
       "    <tr>\n",
       "      <th>4</th>\n",
       "      <td>USER-00005</td>\n",
       "      <td>53</td>\n",
       "      <td>Male</td>\n",
       "      <td>1.20</td>\n",
       "      <td>0.56</td>\n",
       "      <td>0.29</td>\n",
       "      <td>12.63</td>\n",
       "      <td>Good</td>\n",
       "      <td>Low</td>\n",
       "      <td>5.55</td>\n",
       "      <td>4.00</td>\n",
       "      <td>No</td>\n",
       "      <td>Positive</td>\n",
       "      <td>Yes</td>\n",
       "    </tr>\n",
       "  </tbody>\n",
       "</table>\n",
       "</div>"
      ],
      "text/plain": [
       "      User_ID  Age  Gender  Technology_Usage_Hours  Social_Media_Usage_Hours  \\\n",
       "0  USER-00001   23  Female                    6.57                      6.00   \n",
       "1  USER-00002   21    Male                    3.01                      2.57   \n",
       "2  USER-00003   51    Male                    3.04                      6.14   \n",
       "3  USER-00004   25  Female                    3.84                      4.48   \n",
       "4  USER-00005   53    Male                    1.20                      0.56   \n",
       "\n",
       "   Gaming_Hours  Screen_Time_Hours Mental_Health_Status Stress_Level  \\\n",
       "0          0.68              12.36                 Good          Low   \n",
       "1          3.74               7.61                 Poor         High   \n",
       "2          1.26               3.16                 Fair         High   \n",
       "3          2.59              13.08            Excellent       Medium   \n",
       "4          0.29              12.63                 Good          Low   \n",
       "\n",
       "   Sleep_Hours  Physical_Activity_Hours Support_Systems_Access  \\\n",
       "0         8.01                     6.71                     No   \n",
       "1         7.28                     5.88                    Yes   \n",
       "2         8.04                     9.81                     No   \n",
       "3         5.62                     5.28                    Yes   \n",
       "4         5.55                     4.00                     No   \n",
       "\n",
       "  Work_Environment_Impact Online_Support_Usage  \n",
       "0                Negative                  Yes  \n",
       "1                Positive                   No  \n",
       "2                Negative                   No  \n",
       "3                Negative                  Yes  \n",
       "4                Positive                  Yes  "
      ]
     },
     "execution_count": 5,
     "metadata": {},
     "output_type": "execute_result"
    }
   ],
   "source": [
    "csv_file = \"../data/mental_health_and_technology_usage_2024.csv\"\n",
    "csv_data = pd.read_csv(csv_file)\n",
    "\n",
    "# Display the first few rows of the dataframe to understand its structure\n",
    "csv_data.head()\n"
   ]
  },
  {
   "cell_type": "markdown",
   "id": "61ca640dec1dbb69",
   "metadata": {},
   "source": [
    "## **Data Preparation/Data Cleaning** \n"
   ]
  },
  {
   "cell_type": "markdown",
   "id": "1a17597114220376",
   "metadata": {},
   "source": [
    "### **Missing Values:** "
   ]
  },
  {
   "cell_type": "code",
   "execution_count": 11,
   "id": "12512f20100d1a2d",
   "metadata": {},
   "outputs": [
    {
     "name": "stdout",
     "output_type": "stream",
     "text": [
      "\n",
      "Missing values check: \n",
      "\n",
      "no missing values found\n"
     ]
    }
   ],
   "source": [
    "print(\"\\nMissing values check: \\n\")\n",
    "missing_val = csv_data.isnull().sum()\n",
    "if missing_val.sum()== 0:\n",
    "    print(\"no missing values found\")\n",
    "else:\n",
    "    print(\"name of the column and the number of values missing:\")\n",
    "    print(missing_val[missing_val>0])"
   ]
  },
  {
   "cell_type": "markdown",
   "id": "ec22433eca4c9953",
   "metadata": {},
   "source": [
    "### **Different Format:**\n",
    " "
   ]
  },
  {
   "cell_type": "code",
   "execution_count": 12,
   "id": "1d4f656baeb6c526",
   "metadata": {},
   "outputs": [
    {
     "name": "stdout",
     "output_type": "stream",
     "text": [
      "\n",
      "Data formatting check per column: \n",
      "no issues with formatting\n"
     ]
    }
   ],
   "source": [
    "\n",
    "print(\"\\nData formatting check per column: \")\n",
    "issue=False\n",
    "for column in csv_data.columns:\n",
    "        if csv_data[column].apply(type).nunique()>1:\n",
    "            print(f\"Mixed data types in column '{column}'\")\n",
    "            issue = True\n",
    "            \n",
    "if not issue:\n",
    "        print(\"no issues with formatting\")"
   ]
  },
  {
   "cell_type": "markdown",
   "id": "6a565934b74d53f9",
   "metadata": {},
   "source": [
    "### **Errors: Case sensitive**\n",
    "**Note:** There are no case sensitive errors in the whole dataset.\n"
   ]
  },
  {
   "cell_type": "markdown",
   "id": "182a7981b3cd8dc8",
   "metadata": {},
   "source": [
    "#### **Gender**\n"
   ]
  },
  {
   "cell_type": "code",
   "execution_count": 8,
   "id": "178b204c763f825c",
   "metadata": {
    "ExecuteTime": {
     "end_time": "2025-05-03T22:00:01.013451Z",
     "start_time": "2025-05-03T22:00:01.000587Z"
    }
   },
   "outputs": [
    {
     "name": "stdout",
     "output_type": "stream",
     "text": [
      "['Female' 'Male' 'Other']\n",
      "Case-sensitive invalid entries:\n",
      "Series([], Name: Gender, dtype: object)\n"
     ]
    }
   ],
   "source": [
    "print(csv_data[\"Gender\"].unique())\n",
    "\n",
    "valid_values = [\"Male\", \"Female\", \"Other\"]\n",
    "invalid_entries = csv_data[~csv_data[\"Gender\"].isin(valid_values)]\n",
    "print(\"Case-sensitive invalid entries:\")\n",
    "print(invalid_entries[\"Gender\"].head())\n"
   ]
  },
  {
   "cell_type": "markdown",
   "id": "78a61fff27d4c7a0",
   "metadata": {},
   "source": []
  },
  {
   "cell_type": "markdown",
   "id": "51f6547d6b6c03f9",
   "metadata": {},
   "source": [
    "#### **Mental health status**"
   ]
  },
  {
   "cell_type": "code",
   "execution_count": null,
   "id": "9cf98ccc07152c48",
   "metadata": {
    "ExecuteTime": {
     "end_time": "2025-05-03T22:00:05.218516Z",
     "start_time": "2025-05-03T22:00:05.209342Z"
    }
   },
   "outputs": [
    {
     "name": "stdout",
     "output_type": "stream",
     "text": [
      "['Good' 'Poor' 'Fair' 'Excellent']\n",
      "Case-sensitive invalid entries:\n",
      "Series([], Name: Mental_Health_Status, dtype: object)\n"
     ]
    }
   ],
   "source": [
    "print(csv_data[\"Mental_Health_Status\"].unique())\n",
    "\n",
    "valid_values = [\"Good\", \"Poor\", \"Fair\", \"Excellent\"]\n",
    "invalid_entries = csv_data[~csv_data[\"Mental_Health_Status\"].isin(valid_values)]\n",
    "print(\"Case-sensitive invalid entries:\")\n",
    "print(invalid_entries[\"Mental_Health_Status\"].head())\n"
   ]
  },
  {
   "cell_type": "markdown",
   "id": "d3816dbba42b3645",
   "metadata": {},
   "source": []
  },
  {
   "cell_type": "markdown",
   "id": "142dcfcdaa577296",
   "metadata": {},
   "source": [
    "#### **Stress level**"
   ]
  },
  {
   "cell_type": "code",
   "execution_count": null,
   "id": "63e16d05fe963ce9",
   "metadata": {
    "ExecuteTime": {
     "end_time": "2025-05-03T22:00:09.163240Z",
     "start_time": "2025-05-03T22:00:09.153675Z"
    }
   },
   "outputs": [
    {
     "name": "stdout",
     "output_type": "stream",
     "text": [
      "['Low' 'High' 'Medium']\n",
      "Case-sensitive invalid entries:\n",
      "Series([], Name: Stress_Level, dtype: object)\n"
     ]
    }
   ],
   "source": [
    "print(csv_data[\"Stress_Level\"].unique())\n",
    "\n",
    "valid_values = [\"Low\", \"High\", \"Medium\"]\n",
    "invalid_entries = csv_data[~csv_data[\"Stress_Level\"].isin(valid_values)]\n",
    "print(\"Case-sensitive invalid entries:\")\n",
    "print(invalid_entries[\"Stress_Level\"].head())"
   ]
  },
  {
   "cell_type": "markdown",
   "id": "c1ba63f776744806",
   "metadata": {},
   "source": []
  },
  {
   "cell_type": "markdown",
   "id": "2eac013e63e5d184",
   "metadata": {},
   "source": [
    "#### **Support systems access**"
   ]
  },
  {
   "cell_type": "code",
   "execution_count": null,
   "id": "9daca8dc9fea94b4",
   "metadata": {
    "ExecuteTime": {
     "end_time": "2025-05-03T22:00:14.196042Z",
     "start_time": "2025-05-03T22:00:14.186382Z"
    }
   },
   "outputs": [
    {
     "name": "stdout",
     "output_type": "stream",
     "text": [
      "['No' 'Yes']\n",
      "Case-sensitive invalid entries:\n",
      "Series([], Name: Support_Systems_Access, dtype: object)\n"
     ]
    }
   ],
   "source": [
    "print(csv_data[\"Support_Systems_Access\"].unique())\n",
    "\n",
    "valid_values = [\"No\", \"Yes\"]\n",
    "invalid_entries = csv_data[~csv_data[\"Support_Systems_Access\"].isin(valid_values)]\n",
    "print(\"Case-sensitive invalid entries:\")\n",
    "print(invalid_entries[\"Support_Systems_Access\"].head())"
   ]
  },
  {
   "cell_type": "markdown",
   "id": "94e9d5edcf6d5228",
   "metadata": {},
   "source": [
    "#### **Work environment impact**"
   ]
  },
  {
   "cell_type": "code",
   "execution_count": null,
   "id": "824c70b582164e85",
   "metadata": {
    "ExecuteTime": {
     "end_time": "2025-05-03T22:00:17.957080Z",
     "start_time": "2025-05-03T22:00:17.947065Z"
    }
   },
   "outputs": [
    {
     "name": "stdout",
     "output_type": "stream",
     "text": [
      "['Negative' 'Positive' 'Neutral']\n",
      "Case-sensitive invalid entries:\n",
      "Series([], Name: Work_Environment_Impact, dtype: object)\n"
     ]
    }
   ],
   "source": [
    "print(csv_data[\"Work_Environment_Impact\"].unique())\n",
    "\n",
    "valid_values = [\"Negative\", \"Positive\", \"Neutral\"]\n",
    "invalid_entries = csv_data[~csv_data[\"Work_Environment_Impact\"].isin(valid_values)]\n",
    "print(\"Case-sensitive invalid entries:\")\n",
    "print(invalid_entries[\"Work_Environment_Impact\"].head())"
   ]
  },
  {
   "cell_type": "markdown",
   "id": "fa2a557a34d3132c",
   "metadata": {},
   "source": [
    "#### **Online support usage**"
   ]
  },
  {
   "cell_type": "code",
   "execution_count": null,
   "id": "d964e1df9eb9e4c1",
   "metadata": {
    "ExecuteTime": {
     "end_time": "2025-05-03T22:00:27.755890Z",
     "start_time": "2025-05-03T22:00:27.735286Z"
    }
   },
   "outputs": [
    {
     "name": "stdout",
     "output_type": "stream",
     "text": [
      "['Yes' 'No']\n",
      "Case-sensitive invalid entries:\n",
      "Series([], Name: Online_Support_Usage, dtype: object)\n"
     ]
    }
   ],
   "source": [
    "print(csv_data[\"Online_Support_Usage\"].unique())\n",
    "\n",
    "valid_values = [\"No\", \"Yes\"]\n",
    "invalid_entries = csv_data[~csv_data[\"Online_Support_Usage\"].isin(valid_values)]\n",
    "print(\"Case-sensitive invalid entries:\")\n",
    "print(invalid_entries[\"Online_Support_Usage\"].head())"
   ]
  },
  {
   "cell_type": "markdown",
   "id": "a539961ae4a927bd",
   "metadata": {},
   "source": [
    "### **Remove duplicates in identifiers**\n",
    "**Note:** There are no duplicates in the User_ID column."
   ]
  },
  {
   "cell_type": "code",
   "execution_count": null,
   "id": "7fc7860b887082e3",
   "metadata": {
    "ExecuteTime": {
     "end_time": "2025-05-03T22:00:35.817729Z",
     "start_time": "2025-05-03T22:00:35.808352Z"
    }
   },
   "outputs": [
    {
     "name": "stdout",
     "output_type": "stream",
     "text": [
      "Are all User_IDs unique? True\n"
     ]
    }
   ],
   "source": [
    "is_unique = csv_data[\"User_ID\"].is_unique\n",
    "print(\"Are all User_IDs unique?\", is_unique)\n"
   ]
  },
  {
   "cell_type": "markdown",
   "id": "a1bb91ed1988ba41",
   "metadata": {},
   "source": [
    "### **Outliers:**\n",
    "**Note:** The IQR factor was intentionally reduced to 0.4 to identify even slight deviations from the central range as outliers. This allows for a more sensitive analysis. These are not classical outliers (which use a factor of 1.5), but rather borderline observations."
   ]
  },
  {
   "cell_type": "code",
   "execution_count": null,
   "id": "f3d344b2e4a68daa",
   "metadata": {
    "ExecuteTime": {
     "end_time": "2025-05-03T22:00:42.123176Z",
     "start_time": "2025-05-03T22:00:41.891843Z"
    }
   },
   "outputs": [
    {
     "name": "stdout",
     "output_type": "stream",
     "text": [
      "\n",
      "Outliers in 'Technology_Usage_Hours':\n",
      "      Technology_Usage_Hours\n",
      "4                       1.20\n",
      "22                      1.27\n",
      "27                      1.16\n",
      "31                     11.80\n",
      "32                     11.51\n",
      "...                      ...\n",
      "9956                   11.50\n",
      "9962                   11.73\n",
      "9967                    1.43\n",
      "9977                    1.19\n",
      "9993                   11.58\n",
      "\n",
      "[1085 rows x 1 columns]\n",
      "\n",
      "Outliers in 'Social_Media_Usage_Hours':\n",
      "      Social_Media_Usage_Hours\n",
      "15                        0.21\n",
      "26                        0.06\n",
      "54                        7.83\n",
      "55                        7.78\n",
      "79                        0.37\n",
      "...                        ...\n",
      "9943                      7.64\n",
      "9950                      7.64\n",
      "9954                      0.05\n",
      "9964                      7.86\n",
      "9974                      0.32\n",
      "\n",
      "[970 rows x 1 columns]\n",
      "\n",
      "Outliers in 'Gaming_Hours':\n",
      "      Gaming_Hours\n",
      "5             0.11\n",
      "8             0.08\n",
      "25            0.19\n",
      "47            4.85\n",
      "78            4.94\n",
      "...            ...\n",
      "9920          4.81\n",
      "9954          0.17\n",
      "9972          4.98\n",
      "9977          0.15\n",
      "9991          0.13\n",
      "\n",
      "[897 rows x 1 columns]\n",
      "\n",
      "Outliers in 'Screen_Time_Hours':\n",
      "      Screen_Time_Hours\n",
      "5                  1.34\n",
      "10                14.87\n",
      "13                 1.65\n",
      "17                14.88\n",
      "21                 1.51\n",
      "...                 ...\n",
      "9951               1.11\n",
      "9975              14.91\n",
      "9980               1.27\n",
      "9984              14.99\n",
      "9996               1.17\n",
      "\n",
      "[1022 rows x 1 columns]\n",
      "\n",
      "Outliers in 'Sleep_Hours':\n",
      "      Sleep_Hours\n",
      "17           8.95\n",
      "22           4.01\n",
      "51           8.96\n",
      "60           4.08\n",
      "66           4.13\n",
      "...           ...\n",
      "9942         4.18\n",
      "9945         8.82\n",
      "9946         4.03\n",
      "9970         4.06\n",
      "9996         8.92\n",
      "\n",
      "[998 rows x 1 columns]\n",
      "\n",
      "Outliers in 'Physical_Activity_Hours':\n",
      "      Physical_Activity_Hours\n",
      "2                        9.81\n",
      "9                        0.47\n",
      "16                       9.65\n",
      "21                       0.06\n",
      "25                       0.34\n",
      "...                       ...\n",
      "9985                     0.14\n",
      "9988                     0.29\n",
      "9989                     0.20\n",
      "9992                     0.12\n",
      "9996                     9.78\n",
      "\n",
      "[962 rows x 1 columns]\n"
     ]
    },
    {
     "data": {
      "image/png": "[encoded data removed]",
      "text/plain": [
       "<Figure size 640x480 with 1 Axes>"
      ]
     },
     "metadata": {},
     "output_type": "display_data"
    }
   ],
   "source": [
    "columns = [\n",
    "    \"Technology_Usage_Hours\",\n",
    "    \"Social_Media_Usage_Hours\",\n",
    "    \"Gaming_Hours\",\n",
    "    \"Screen_Time_Hours\",\n",
    "    \"Sleep_Hours\",\n",
    "    \"Physical_Activity_Hours\"\n",
    "]\n",
    "\n",
    "# copy of the data frame\n",
    "clean_data = csv_data.copy()\n",
    "\n",
    "for col in columns:\n",
    "    # calculate IQR\n",
    "    Q1 = csv_data[col].quantile(0.25)\n",
    "    Q3 = csv_data[col].quantile(0.75)\n",
    "    IQR = Q3 - Q1\n",
    "\n",
    "    # calculate borders\n",
    "    lower_bound = Q1 - 0.4 * IQR\n",
    "    upper_bound = Q3 + 0.4 * IQR\n",
    "\n",
    "    # select and print outliers\n",
    "    outliers = csv_data[(csv_data[col] < lower_bound) | (csv_data[col] > upper_bound)]\n",
    "    print(f\"\\nOutliers in '{col}':\")\n",
    "    print(outliers[[col]])\n",
    "\n",
    "    # delete outliers from the clean_data dataset\n",
    "    #clean_data = clean_data[(clean_data[col] >= lower_bound) & (clean_data[col] <= upper_bound)]\n",
    "\n",
    "    \n",
    "# Boxplots for all chosen columns\n",
    "sns.boxplot(data=csv_data[columns])\n",
    "plt.title(\"Boxplots of selected columns\")\n",
    "plt.xticks(rotation=45) \n",
    "plt.tight_layout()\n",
    "plt.show()\n",
    "\n",
    "#print(\"Dataset without outliers:\")\n",
    "#print(clean_data.head())"
   ]
  }
 ],
 "metadata": {
  "kernelspec": {
   "display_name": "Python 3",
   "language": "python",
   "name": "python3"
  },
  "language_info": {
   "codemirror_mode": {
    "name": "ipython",
    "version": 3
   },
   "file_extension": ".py",
   "mimetype": "text/x-python",
   "name": "python",
   "nbconvert_exporter": "python",
   "pygments_lexer": "ipython3",
   "version": "3.13.3"
  }
 },
 "nbformat": 4,
 "nbformat_minor": 5
}
